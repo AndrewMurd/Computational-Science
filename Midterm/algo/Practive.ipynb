{
 "cells": [
  {
   "cell_type": "markdown",
   "metadata": {},
   "source": [
    "## Question 1"
   ]
  },
  {
   "cell_type": "code",
   "execution_count": 1,
   "metadata": {},
   "outputs": [],
   "source": [
    "from bisect import bisect\n",
    "import math "
   ]
  },
  {
   "cell_type": "code",
   "execution_count": 2,
   "metadata": {},
   "outputs": [],
   "source": [
    "def e(x):\n",
    "    return x*math.sin(x)-1"
   ]
  },
  {
   "cell_type": "code",
   "execution_count": 3,
   "metadata": {},
   "outputs": [
    {
     "name": "stdout",
     "output_type": "stream",
     "text": [
      "l=2 r=3 x=2.5 err: 0.5 res:0.4961803602598913\n",
      "l=2.5 r=3 x=2.75 err: 0.25 res:0.04956772814391219\n",
      "l=2.75 r=3 x=2.875 err: 0.125 res:0.24259276908016514\n",
      "l=2.75 r=2.875 x=2.8125 err: 0.0625 res:0.0910435740633807\n",
      "l=2.75 r=2.8125 x=2.78125 err: 0.03125 res:0.019345431608757346\n"
     ]
    },
    {
     "data": {
      "text/plain": [
       "(2.78125, 0.03125, 0.019345431608757346)"
      ]
     },
     "execution_count": 3,
     "metadata": {},
     "output_type": "execute_result"
    }
   ],
   "source": [
    "bisect(2,3,99,.05,.05,e)"
   ]
  },
  {
   "cell_type": "code",
   "execution_count": 4,
   "metadata": {},
   "outputs": [],
   "source": [
    "from newton import newton"
   ]
  },
  {
   "cell_type": "code",
   "execution_count": 5,
   "metadata": {},
   "outputs": [],
   "source": [
    "def ep(x):\n",
    "    return x*math.cos(x)+ (math.sin(x))"
   ]
  },
  {
   "cell_type": "code",
   "execution_count": 6,
   "metadata": {},
   "outputs": [
    {
     "name": "stdout",
     "output_type": "stream",
     "text": [
      "it=1 x=2.796158e+00 err=2.038420e-01 res=5.320499e-02 step=-2.038420e-01\n",
      "it=2 x=2.772948e+00 err=2.320951e-02 res=7.651798e-04 step=-2.320951e-02\n",
      "it=3 x=2.772605e+00 err=3.436999e-04 res=1.692231e-07 step=-3.436999e-04\n"
     ]
    },
    {
     "data": {
      "text/plain": [
       "(2.772604784310486, 0.00034369991387875, 1.6922310697164988e-07)"
      ]
     },
     "execution_count": 6,
     "metadata": {},
     "output_type": "execute_result"
    }
   ],
   "source": [
    "newton(e,ep,3,1e-6,1,100)"
   ]
  },
  {
   "cell_type": "markdown",
   "metadata": {},
   "source": [
    "## Question 2"
   ]
  },
  {
   "cell_type": "code",
   "execution_count": 7,
   "metadata": {},
   "outputs": [],
   "source": [
    "import numpy as np\n",
    "from LUP import LUP"
   ]
  },
  {
   "cell_type": "code",
   "execution_count": 8,
   "metadata": {},
   "outputs": [],
   "source": [
    "A = np.array([ [1.0,-3.0,1.0],[-2.0,-1.5,3.0],[2.5,6.0,1.5] ])"
   ]
  },
  {
   "cell_type": "code",
   "execution_count": 9,
   "metadata": {},
   "outputs": [
    {
     "name": "stdout",
     "output_type": "stream",
     "text": [
      "iteration# =  1\n",
      "L=\n",
      "   1  0  0  \n",
      "-0.8  1  0  \n",
      "   0  0  1  \n",
      "\n",
      "U =\n",
      "2.5    6  1.5  \n",
      "  0  3.3  4.2  \n",
      "  1   -3    1  \n",
      "\n",
      "P =\n",
      "0  0  1  \n",
      "0  1  0  \n",
      "1  0  0  \n",
      "\n",
      "iteration# =  2\n",
      "L=\n",
      "   1  0  0  \n",
      "-0.8  1  0  \n",
      " 0.4  0  1  \n",
      "\n",
      "U =\n",
      "2.5     6  1.5  \n",
      "  0   3.3  4.2  \n",
      "  0  -5.4  0.4  \n",
      "\n",
      "P =\n",
      "0  0  1  \n",
      "0  1  0  \n",
      "1  0  0  \n",
      "\n",
      "iteration# =  3\n",
      "L=\n",
      "   1          0  0  \n",
      " 0.4          1  0  \n",
      "-0.8  -0.611111  1  \n",
      "\n",
      "U =\n",
      "2.5            6      1.5  \n",
      "  0         -5.4      0.4  \n",
      "  0  4.44089e-16  4.44444  \n",
      "\n",
      "P =\n",
      "0  0  1  \n",
      "1  0  0  \n",
      "0  1  0  \n",
      "\n"
     ]
    }
   ],
   "source": [
    "LUP(A);"
   ]
  },
  {
   "cell_type": "markdown",
   "metadata": {},
   "source": [
    "## Question 3"
   ]
  },
  {
   "cell_type": "code",
   "execution_count": 10,
   "metadata": {},
   "outputs": [],
   "source": [
    "a = np.array([ [1.0,-3.0,1.0], [-2.0,5.9,-2.0], [2.5,6.0,1.5]])\n",
    "b = np.array([6.0,-11.800,-11.000])\n",
    "x_aprox = np.array([0.99960385,-1.99996435,-1.0000192])"
   ]
  },
  {
   "cell_type": "code",
   "execution_count": 11,
   "metadata": {},
   "outputs": [],
   "source": [
    "from matrix_error import calc_err"
   ]
  },
  {
   "cell_type": "code",
   "execution_count": 12,
   "metadata": {},
   "outputs": [
    {
     "name": "stdout",
     "output_type": "stream",
     "text": [
      "Residual = 0.001416 Relative Residual = 0.000082 Relative Error = 0.280466 Condition Number = 3409.126563\n"
     ]
    },
    {
     "data": {
      "text/plain": [
       "(0.0014159869303253202,\n",
       " 8.226922294141448e-05,\n",
       " 0.2804661932821373,\n",
       " 3409.1265634277684)"
      ]
     },
     "execution_count": 12,
     "metadata": {},
     "output_type": "execute_result"
    }
   ],
   "source": [
    "calc_err(a,x_aprox,b)"
   ]
  },
  {
   "cell_type": "markdown",
   "metadata": {},
   "source": [
    "## Question 4"
   ]
  },
  {
   "cell_type": "code",
   "execution_count": null,
   "metadata": {},
   "outputs": [],
   "source": []
  }
 ],
 "metadata": {
  "kernelspec": {
   "display_name": "Python 3",
   "language": "python",
   "name": "python3"
  },
  "language_info": {
   "codemirror_mode": {
    "name": "ipython",
    "version": 3
   },
   "file_extension": ".py",
   "mimetype": "text/x-python",
   "name": "python",
   "nbconvert_exporter": "python",
   "pygments_lexer": "ipython3",
   "version": "3.7.3"
  }
 },
 "nbformat": 4,
 "nbformat_minor": 4
}
